{
 "cells": [
  {
   "cell_type": "markdown",
   "metadata": {},
   "source": [
    "# Seperating Pages in .pdfs from single Pdf file"
   ]
  },
  {
   "cell_type": "code",
   "execution_count": 42,
   "metadata": {},
   "outputs": [],
   "source": [
    "import os\n",
    "import PyPDF2\n",
    "\n",
    "def extract_pages_and_save(pdf_path):\n",
    "    # Open the PDF file\n",
    "    with open(pdf_path, 'rb') as pdf_file:\n",
    "        pdf_reader = PyPDF2.PdfFileReader(pdf_file)\n",
    "        total_pages = pdf_reader.numPages\n",
    "\n",
    "        # Create a directory for the PDF file\n",
    "        folder_name = os.path.splitext(os.path.basename(pdf_path))[0]\n",
    "\n",
    "\n",
    "        output_directory = os.path.join(os.path.dirname(os.path.dirname(pdf_path)), 'separate_pdf')\n",
    "\n",
    "        folder_path = os.path.join(output_directory, folder_name)\n",
    "        os.makedirs(folder_path, exist_ok=True)\n",
    "\n",
    "        # Extract each page and save it in a separate directory\n",
    "        page_paths = []  # List to store paths of extracted pages\n",
    "        for page_num in range(total_pages):\n",
    "            # Create a directory for the current page\n",
    "            page_folder_name = f\"{folder_name}_pg{page_num + 1}\"\n",
    "            page_folder_path = os.path.join(folder_path, page_folder_name)\n",
    "            os.makedirs(page_folder_path, exist_ok=True)\n",
    "\n",
    "            # Save the current page in the page-specific directory\n",
    "            page = pdf_reader.getPage(page_num)\n",
    "            output_pdf_path = os.path.join(page_folder_path, f\"{folder_name}_pg{page_num + 1}.pdf\")\n",
    "            with open(output_pdf_path, 'wb') as output_file:\n",
    "                pdf_writer = PyPDF2.PdfFileWriter()\n",
    "                pdf_writer.addPage(page)\n",
    "                pdf_writer.write(output_file)\n",
    "                \n",
    "            # Append the path of the saved page to the list\n",
    "            page_paths.append(output_pdf_path)\n",
    "        \n",
    "        return page_paths  # Return the list of extracted PDF paths\n",
    "\n",
    "# Example usage:\n",
    "pdf_path = \"/home/pratiksalunkhe/Vallabh/Fin_OCR_Model/pdf_input/007.pdf\"\n",
    "page_paths = extract_pages_and_save(pdf_path)\n"
   ]
  },
  {
   "cell_type": "markdown",
   "metadata": {},
   "source": [
    "# Croping the Col1 as col1 and col-1 as Col0 and saving the cropd pdf as .pdf"
   ]
  },
  {
   "cell_type": "code",
   "execution_count": 43,
   "metadata": {},
   "outputs": [],
   "source": [
    "from PyPDF2 import PdfFileReader, PdfFileWriter\n",
    "from pdf2image import convert_from_path\n",
    "import camelot\n",
    "import os\n",
    "\n",
    "def crop_pdf_dynamically(input_pdf_path, crop_pdf_files):\n",
    "    # Read the PDF and extract cell coordinates\n",
    "    table = camelot.read_pdf(input_pdf_path, encoding='utf-8')\n",
    "    cell = table[0].cells\n",
    "    for column_to_crop in [0,-1]:\n",
    "        # Iterate through the cells and get coordinates for the specified column\n",
    "        for j, i in enumerate(cell[3:]):  # Assuming skipping first 3 cells\n",
    "            x1 = i[column_to_crop].x1\n",
    "            y1 = i[column_to_crop].y1\n",
    "            x2 = i[column_to_crop].x2\n",
    "            y2 = i[column_to_crop].y2\n",
    "\n",
    "            parent_directory = os.path.dirname(input_pdf_path)\n",
    "            name = parent_directory.split('/')[-1]\n",
    "\n",
    "            # Define the output file name based on index\n",
    "            output_file_name = f\"column_{column_to_crop+1}_row_{j+1}_{name}_cropped.pdf\"\n",
    "            output_pdf_directory_name = f\"cropped_{name}_pdf\"\n",
    "\n",
    "            # Create the output PDF directory if it doesn't exist\n",
    "            output_pdf_path = os.path.join(os.path.dirname(input_pdf_path), output_pdf_directory_name)\n",
    "            \n",
    "            if not os.path.exists(output_pdf_path):\n",
    "                os.makedirs(output_pdf_path)\n",
    "            \n",
    "            # Open the input PDF file\n",
    "            with open(input_pdf_path, 'rb') as input_pdf_file:\n",
    "                reader = PdfFileReader(input_pdf_file)\n",
    "                writer = PdfFileWriter()\n",
    "                # Iterate through each page of the PDF\n",
    "                for page_number in range(reader.getNumPages()):\n",
    "                    page = reader.getPage(page_number)\n",
    "                    # Crop the page using coordinates\n",
    "                    page.mediaBox.lowerLeft = (x1, y1)\n",
    "                    page.mediaBox.upperRight = (x2, y2)\n",
    "                    # Add the cropped page to the new PDF\n",
    "                    writer.addPage(page)\n",
    "                # Write the cropped PDF to the output file\n",
    "                with open(os.path.join(output_pdf_path, output_file_name), 'wb') as output_pdf_file:\n",
    "                    writer.write(output_pdf_file)\n",
    "                    crop_pdf_files.append(os.path.join(output_pdf_path, output_file_name))\n",
    "    return crop_pdf_files\n",
    "\n",
    "\n",
    "crop_pdf_files = []  # Initialize outside the loop\n",
    "for input_pdf_path in page_paths:\n",
    "        crop_pdf_path = crop_pdf_dynamically(input_pdf_path, crop_pdf_files)\n",
    "\n",
    "    # Do something with crop_pdf_files if needed\n",
    "\n"
   ]
  },
  {
   "cell_type": "code",
   "execution_count": 40,
   "metadata": {},
   "outputs": [],
   "source": [
    "from PyPDF2 import PdfFileReader, PdfFileWriter\n",
    "from pdf2image import convert_from_path\n",
    "import camelot\n",
    "import os\n",
    "\n",
    "def crop_pdf_dynamically(input_pdf_path, crop_pdf_files):\n",
    "    # Read the PDF and extract cell coordinates\n",
    "    table = camelot.read_pdf(input_pdf_path, encoding='utf-8')\n",
    "    cell = table[0].cells\n",
    "    for column_to_crop in [0, -1]:\n",
    "        # Iterate through the cells and get coordinates for the specified column\n",
    "        for j, i in enumerate(cell[3:]):  # Assuming skipping first 3 cells\n",
    "            x1 = i[column_to_crop].x1\n",
    "            y1 = i[column_to_crop].y1\n",
    "            x2 = i[column_to_crop].x2\n",
    "            y2 = i[column_to_crop].y2\n",
    "\n",
    "            parent_directory = os.path.dirname(input_pdf_path)\n",
    "            name = parent_directory.split('/')[-1]\n",
    "\n",
    "            # Define the output file name based on index\n",
    "            output_file_name = f\"column_{column_to_crop+1}_row_{j+1}_{name}_cropped.pdf\"\n",
    "\n",
    "            # Define the output folder based on the column number\n",
    "            if column_to_crop == 0:\n",
    "                output_pdf_directory_name = 'First_column'\n",
    "            else:\n",
    "                output_pdf_directory_name = 'Last_column'\n",
    "\n",
    "            # Create the output PDF directory if it doesn't exist\n",
    "            output_pdf_path = os.path.join(parent_directory, output_pdf_directory_name)\n",
    "            if not os.path.exists(output_pdf_path):\n",
    "                os.makedirs(output_pdf_path)\n",
    "\n",
    "            # Open the input PDF file\n",
    "            with open(input_pdf_path, 'rb') as input_pdf_file:\n",
    "                reader = PdfFileReader(input_pdf_file)\n",
    "                writer = PdfFileWriter()\n",
    "                # Iterate through each page of the PDF\n",
    "                for page_number in range(reader.getNumPages()):\n",
    "                    page = reader.getPage(page_number)\n",
    "                    # Crop the page using coordinates\n",
    "                    page.mediaBox.lowerLeft = (x1, y1)\n",
    "                    page.mediaBox.upperRight = (x2, y2)\n",
    "                    # Add the cropped page to the new PDF\n",
    "                    writer.addPage(page)\n",
    "                # Write the cropped PDF to the output file\n",
    "                with open(os.path.join(output_pdf_path, output_file_name), 'wb') as output_pdf_file:\n",
    "                    writer.write(output_pdf_file)\n",
    "                    crop_pdf_files.append(os.path.join(output_pdf_path, output_file_name))\n",
    "\n",
    "    return crop_pdf_files\n",
    "\n",
    "crop_pdf_files = []  # Initialize outside the loop\n",
    "for input_pdf_path in page_paths:\n",
    "    crop_pdf_path = crop_pdf_dynamically(input_pdf_path, crop_pdf_files)\n",
    "\n",
    "\n"
   ]
  },
  {
   "cell_type": "code",
   "execution_count": 44,
   "metadata": {},
   "outputs": [
    {
     "data": {
      "text/plain": [
       "24"
      ]
     },
     "execution_count": 44,
     "metadata": {},
     "output_type": "execute_result"
    }
   ],
   "source": [
    "len(crop_pdf_files)"
   ]
  },
  {
   "cell_type": "markdown",
   "metadata": {},
   "source": [
    "# Seperating list of paths as Col1(First_Column) and Col0(Last_Column)"
   ]
  },
  {
   "cell_type": "code",
   "execution_count": 45,
   "metadata": {},
   "outputs": [],
   "source": [
    "def filter_paths(file_paths):\n",
    "    column_0_paths = []\n",
    "    column_1_paths = []\n",
    "    for path in file_paths:\n",
    "        if \"column_0\" in path:\n",
    "            column_0_paths.append(path)\n",
    "        else:\n",
    "            column_1_paths.append(path)\n",
    "    return column_0_paths, column_1_paths\n",
    "\n",
    "# Example usage:\n",
    "col_0_pdf_path, col_1_pdf_path = filter_paths(crop_pdf_path)\n"
   ]
  },
  {
   "cell_type": "code",
   "execution_count": 46,
   "metadata": {},
   "outputs": [
    {
     "data": {
      "text/plain": [
       "['/home/pratiksalunkhe/Vallabh/Fin_OCR_Model/separate_pdf/007/007_pg1/cropped_007_pg1_pdf/column_1_row_1_007_pg1_cropped.pdf',\n",
       " '/home/pratiksalunkhe/Vallabh/Fin_OCR_Model/separate_pdf/007/007_pg1/cropped_007_pg1_pdf/column_1_row_2_007_pg1_cropped.pdf',\n",
       " '/home/pratiksalunkhe/Vallabh/Fin_OCR_Model/separate_pdf/007/007_pg1/cropped_007_pg1_pdf/column_1_row_3_007_pg1_cropped.pdf',\n",
       " '/home/pratiksalunkhe/Vallabh/Fin_OCR_Model/separate_pdf/007/007_pg1/cropped_007_pg1_pdf/column_1_row_4_007_pg1_cropped.pdf',\n",
       " '/home/pratiksalunkhe/Vallabh/Fin_OCR_Model/separate_pdf/007/007_pg2/cropped_007_pg2_pdf/column_1_row_1_007_pg2_cropped.pdf',\n",
       " '/home/pratiksalunkhe/Vallabh/Fin_OCR_Model/separate_pdf/007/007_pg2/cropped_007_pg2_pdf/column_1_row_2_007_pg2_cropped.pdf',\n",
       " '/home/pratiksalunkhe/Vallabh/Fin_OCR_Model/separate_pdf/007/007_pg2/cropped_007_pg2_pdf/column_1_row_3_007_pg2_cropped.pdf',\n",
       " '/home/pratiksalunkhe/Vallabh/Fin_OCR_Model/separate_pdf/007/007_pg2/cropped_007_pg2_pdf/column_1_row_4_007_pg2_cropped.pdf',\n",
       " '/home/pratiksalunkhe/Vallabh/Fin_OCR_Model/separate_pdf/007/007_pg3/cropped_007_pg3_pdf/column_1_row_1_007_pg3_cropped.pdf',\n",
       " '/home/pratiksalunkhe/Vallabh/Fin_OCR_Model/separate_pdf/007/007_pg3/cropped_007_pg3_pdf/column_1_row_2_007_pg3_cropped.pdf',\n",
       " '/home/pratiksalunkhe/Vallabh/Fin_OCR_Model/separate_pdf/007/007_pg3/cropped_007_pg3_pdf/column_1_row_3_007_pg3_cropped.pdf',\n",
       " '/home/pratiksalunkhe/Vallabh/Fin_OCR_Model/separate_pdf/007/007_pg3/cropped_007_pg3_pdf/column_1_row_4_007_pg3_cropped.pdf']"
      ]
     },
     "execution_count": 46,
     "metadata": {},
     "output_type": "execute_result"
    }
   ],
   "source": [
    "col_1_pdf_path"
   ]
  },
  {
   "cell_type": "code",
   "execution_count": null,
   "metadata": {},
   "outputs": [],
   "source": []
  },
  {
   "cell_type": "markdown",
   "metadata": {},
   "source": [
    "# Converting Pdfs to Images "
   ]
  },
  {
   "cell_type": "code",
   "execution_count": 47,
   "metadata": {},
   "outputs": [],
   "source": [
    "import os\n",
    "from pdf2image import convert_from_path\n",
    "\n",
    "def convert_pdf_to_images(pdf_file_path):\n",
    "    if pdf_file_path.endswith('.pdf'):\n",
    "\n",
    "        pdf_name = os.path.splitext(os.path.basename(pdf_file_path))[0]  # Extract PDF name\n",
    "\n",
    "        \n",
    "\n",
    "       \n",
    "        pdf_name = os.path.splitext(os.path.basename(pdf_file_path))[0]  # Extract PDF name\n",
    "        parent_directory = os.path.dirname(os.path.dirname(os.path.dirname(os.path.dirname(pdf_file_path))))\n",
    "        sub_fol1 = pdf_file_path.split('/')[-4]\n",
    "        sub_fol2 = pdf_file_path.split('/')[-3]\n",
    "        output_folder = os.path.join(parent_directory,sub_fol1,sub_fol2 ,'pdf_to_images')\n",
    "        os.makedirs(output_folder, exist_ok=True)\n",
    "\n",
    "\n",
    "\n",
    "        images = convert_from_path(pdf_file_path, dpi=600)\n",
    "        \n",
    "\n",
    "        for idx, image in enumerate(images):\n",
    "            image_path = os.path.join(output_folder, f\"{pdf_name}.jpg\") #f\"{pdf_name}_{idx + 1}.jpg\"\n",
    "            image.save(image_path, \"JPEG\")\n",
    "            saved_image_paths.append(image_path)\n",
    "        \n",
    "        return saved_image_paths\n",
    "\n",
    "\n",
    "saved_image_paths = []\n",
    "for path in crop_pdf_path :\n",
    "    saved_image = convert_pdf_to_images(path)"
   ]
  },
  {
   "cell_type": "code",
   "execution_count": 48,
   "metadata": {},
   "outputs": [
    {
     "data": {
      "text/plain": [
       "['/home/pratiksalunkhe/Vallabh/Fin_OCR_Model/separate_pdf/007/007_pg1/pdf_to_images/column_1_row_1_007_pg1_cropped.jpg',\n",
       " '/home/pratiksalunkhe/Vallabh/Fin_OCR_Model/separate_pdf/007/007_pg1/pdf_to_images/column_1_row_2_007_pg1_cropped.jpg',\n",
       " '/home/pratiksalunkhe/Vallabh/Fin_OCR_Model/separate_pdf/007/007_pg1/pdf_to_images/column_1_row_3_007_pg1_cropped.jpg',\n",
       " '/home/pratiksalunkhe/Vallabh/Fin_OCR_Model/separate_pdf/007/007_pg1/pdf_to_images/column_1_row_4_007_pg1_cropped.jpg',\n",
       " '/home/pratiksalunkhe/Vallabh/Fin_OCR_Model/separate_pdf/007/007_pg1/pdf_to_images/column_0_row_1_007_pg1_cropped.jpg',\n",
       " '/home/pratiksalunkhe/Vallabh/Fin_OCR_Model/separate_pdf/007/007_pg1/pdf_to_images/column_0_row_2_007_pg1_cropped.jpg',\n",
       " '/home/pratiksalunkhe/Vallabh/Fin_OCR_Model/separate_pdf/007/007_pg1/pdf_to_images/column_0_row_3_007_pg1_cropped.jpg',\n",
       " '/home/pratiksalunkhe/Vallabh/Fin_OCR_Model/separate_pdf/007/007_pg1/pdf_to_images/column_0_row_4_007_pg1_cropped.jpg',\n",
       " '/home/pratiksalunkhe/Vallabh/Fin_OCR_Model/separate_pdf/007/007_pg2/pdf_to_images/column_1_row_1_007_pg2_cropped.jpg',\n",
       " '/home/pratiksalunkhe/Vallabh/Fin_OCR_Model/separate_pdf/007/007_pg2/pdf_to_images/column_1_row_2_007_pg2_cropped.jpg',\n",
       " '/home/pratiksalunkhe/Vallabh/Fin_OCR_Model/separate_pdf/007/007_pg2/pdf_to_images/column_1_row_3_007_pg2_cropped.jpg',\n",
       " '/home/pratiksalunkhe/Vallabh/Fin_OCR_Model/separate_pdf/007/007_pg2/pdf_to_images/column_1_row_4_007_pg2_cropped.jpg',\n",
       " '/home/pratiksalunkhe/Vallabh/Fin_OCR_Model/separate_pdf/007/007_pg2/pdf_to_images/column_0_row_1_007_pg2_cropped.jpg',\n",
       " '/home/pratiksalunkhe/Vallabh/Fin_OCR_Model/separate_pdf/007/007_pg2/pdf_to_images/column_0_row_2_007_pg2_cropped.jpg',\n",
       " '/home/pratiksalunkhe/Vallabh/Fin_OCR_Model/separate_pdf/007/007_pg2/pdf_to_images/column_0_row_3_007_pg2_cropped.jpg',\n",
       " '/home/pratiksalunkhe/Vallabh/Fin_OCR_Model/separate_pdf/007/007_pg2/pdf_to_images/column_0_row_4_007_pg2_cropped.jpg',\n",
       " '/home/pratiksalunkhe/Vallabh/Fin_OCR_Model/separate_pdf/007/007_pg3/pdf_to_images/column_1_row_1_007_pg3_cropped.jpg',\n",
       " '/home/pratiksalunkhe/Vallabh/Fin_OCR_Model/separate_pdf/007/007_pg3/pdf_to_images/column_1_row_2_007_pg3_cropped.jpg',\n",
       " '/home/pratiksalunkhe/Vallabh/Fin_OCR_Model/separate_pdf/007/007_pg3/pdf_to_images/column_1_row_3_007_pg3_cropped.jpg',\n",
       " '/home/pratiksalunkhe/Vallabh/Fin_OCR_Model/separate_pdf/007/007_pg3/pdf_to_images/column_1_row_4_007_pg3_cropped.jpg',\n",
       " '/home/pratiksalunkhe/Vallabh/Fin_OCR_Model/separate_pdf/007/007_pg3/pdf_to_images/column_0_row_1_007_pg3_cropped.jpg',\n",
       " '/home/pratiksalunkhe/Vallabh/Fin_OCR_Model/separate_pdf/007/007_pg3/pdf_to_images/column_0_row_2_007_pg3_cropped.jpg',\n",
       " '/home/pratiksalunkhe/Vallabh/Fin_OCR_Model/separate_pdf/007/007_pg3/pdf_to_images/column_0_row_3_007_pg3_cropped.jpg',\n",
       " '/home/pratiksalunkhe/Vallabh/Fin_OCR_Model/separate_pdf/007/007_pg3/pdf_to_images/column_0_row_4_007_pg3_cropped.jpg']"
      ]
     },
     "execution_count": 48,
     "metadata": {},
     "output_type": "execute_result"
    }
   ],
   "source": [
    "saved_image"
   ]
  },
  {
   "cell_type": "markdown",
   "metadata": {},
   "source": [
    "# Seperating col1(First_column_Image_Path) and Col0(Last_Column_Image_path)"
   ]
  },
  {
   "cell_type": "code",
   "execution_count": 49,
   "metadata": {},
   "outputs": [],
   "source": [
    "def filter_paths(file_paths):\n",
    "    column_0_paths = []\n",
    "    column_1_paths = []\n",
    "    for path in file_paths:\n",
    "        if \"column_0\" in path:\n",
    "            column_0_paths.append(path)\n",
    "        else:\n",
    "            column_1_paths.append(path)\n",
    "    return column_0_paths, column_1_paths\n",
    "\n",
    "# Example usage:\n",
    "col_0_image_path, col_1_image_path = filter_paths(saved_image)"
   ]
  },
  {
   "cell_type": "code",
   "execution_count": 15,
   "metadata": {},
   "outputs": [
    {
     "data": {
      "text/plain": [
       "['/home/pratiksalunkhe/Vallabh/Fin_OCR_Model/separate_pdf/007/007_pg1/pdf_to_images/column_0_row_1_007_pg1_cropped.jpg',\n",
       " '/home/pratiksalunkhe/Vallabh/Fin_OCR_Model/separate_pdf/007/007_pg1/pdf_to_images/column_0_row_2_007_pg1_cropped.jpg',\n",
       " '/home/pratiksalunkhe/Vallabh/Fin_OCR_Model/separate_pdf/007/007_pg1/pdf_to_images/column_0_row_3_007_pg1_cropped.jpg',\n",
       " '/home/pratiksalunkhe/Vallabh/Fin_OCR_Model/separate_pdf/007/007_pg1/pdf_to_images/column_0_row_4_007_pg1_cropped.jpg',\n",
       " '/home/pratiksalunkhe/Vallabh/Fin_OCR_Model/separate_pdf/007/007_pg2/pdf_to_images/column_0_row_1_007_pg2_cropped.jpg',\n",
       " '/home/pratiksalunkhe/Vallabh/Fin_OCR_Model/separate_pdf/007/007_pg2/pdf_to_images/column_0_row_2_007_pg2_cropped.jpg',\n",
       " '/home/pratiksalunkhe/Vallabh/Fin_OCR_Model/separate_pdf/007/007_pg2/pdf_to_images/column_0_row_3_007_pg2_cropped.jpg',\n",
       " '/home/pratiksalunkhe/Vallabh/Fin_OCR_Model/separate_pdf/007/007_pg2/pdf_to_images/column_0_row_4_007_pg2_cropped.jpg',\n",
       " '/home/pratiksalunkhe/Vallabh/Fin_OCR_Model/separate_pdf/007/007_pg3/pdf_to_images/column_0_row_1_007_pg3_cropped.jpg',\n",
       " '/home/pratiksalunkhe/Vallabh/Fin_OCR_Model/separate_pdf/007/007_pg3/pdf_to_images/column_0_row_2_007_pg3_cropped.jpg',\n",
       " '/home/pratiksalunkhe/Vallabh/Fin_OCR_Model/separate_pdf/007/007_pg3/pdf_to_images/column_0_row_3_007_pg3_cropped.jpg',\n",
       " '/home/pratiksalunkhe/Vallabh/Fin_OCR_Model/separate_pdf/007/007_pg3/pdf_to_images/column_0_row_4_007_pg3_cropped.jpg']"
      ]
     },
     "execution_count": 15,
     "metadata": {},
     "output_type": "execute_result"
    }
   ],
   "source": [
    "col_0_image_path"
   ]
  },
  {
   "cell_type": "markdown",
   "metadata": {},
   "source": [
    "# Passing COL0 (Last_Column_Image_Path) To Tesseract and Saving its Output in .txt"
   ]
  },
  {
   "cell_type": "code",
   "execution_count": 50,
   "metadata": {},
   "outputs": [],
   "source": [
    "import os\n",
    "\n",
    "def perform_ocr(img_path):\n",
    "    img_name = os.path.splitext(os.path.basename(img_path))[0] #column_0_row_1_007_pg1_cropped\n",
    "\n",
    "    parent_directory = os.path.dirname(os.path.dirname(os.path.dirname(img_path))) #/home/pratiksalunkhe/Vallabh/Fin_OCR_Model/pdf_to_img\n",
    "\n",
    "    child_fol = img_path.split('/')[-3] # 007\n",
    "\n",
    "    child_fold = img_path.split('/')[-2]\n",
    "\n",
    "    output_path = os.path.join(parent_directory, child_fol, child_fold, f'{img_name}')\n",
    "\n",
    "    command = f\"tesseract {img_path} {output_path} -l Devanagari --psm 6\"\n",
    "\n",
    "    os.system(command)\n",
    "\n",
    "    return output_path\n",
    "\n",
    "\n",
    "\n",
    "for im_path in col_0_image_path:\n",
    "    op_path  = perform_ocr(im_path)"
   ]
  },
  {
   "cell_type": "code",
   "execution_count": 20,
   "metadata": {},
   "outputs": [
    {
     "data": {
      "text/plain": [
       "'/home/pratiksalunkhe/Vallabh/Fin_OCR_Model/separate_pdf/007/007_pg3/pdf_to_images/column_0_row_4_007_pg3_cropped'"
      ]
     },
     "execution_count": 20,
     "metadata": {},
     "output_type": "execute_result"
    }
   ],
   "source": [
    "op_path"
   ]
  },
  {
   "cell_type": "markdown",
   "metadata": {},
   "source": [
    "# Passing COL1 (First_Column_Pdf_path) to extract text from pdf files and saving the output in .txt file "
   ]
  },
  {
   "cell_type": "code",
   "execution_count": 51,
   "metadata": {},
   "outputs": [
    {
     "name": "stdout",
     "output_type": "stream",
     "text": [
      "Text extracted and saved to: /home/pratiksalunkhe/Vallabh/Fin_OCR_Model/separate_pdf/007/007_pg3/pdf_to_images/column_1_row_4_007_pg3_cropped.txt\n"
     ]
    }
   ],
   "source": [
    "import fitz\n",
    "import os\n",
    "\n",
    "def extract_word_coordinates_from_pdf(pdf_path,out_path):\n",
    "\n",
    "    parent_directory = os.path.dirname(os.path.dirname(os.path.dirname(os.path.dirname(pdf_file_path))))\n",
    "\n",
    "\n",
    "    child_fol = pdf_path.split('/')[-4] # 007\n",
    "\n",
    "    child_fold = pdf_path.split('/')[-3] # 007_pg3\n",
    "\n",
    "    final_fold = os.path.join(parent_directory, child_fol, child_fold)\n",
    "    if os.path.exists('pdf_to_images'):\n",
    "        folder = 'pdf_to_images'\n",
    "\n",
    "        output_folder = os.path.join(parent_directory, child_fol, child_fold,folder)\n",
    "\n",
    "        doc = fitz.open(pdf_path)\n",
    "        page = doc[0]\n",
    "        word_coordinates_list = page.get_text(\"words\", sort=True)\n",
    "        doc.close()\n",
    "\n",
    "        # Extract text from word coordinates list\n",
    "        extracted_text = ' '.join([word[4] for word in word_coordinates_list])\n",
    "\n",
    "        # Save extracted text to a text file\n",
    "        file_name = os.path.splitext(os.path.basename(pdf_path))[0] + \".txt\"\n",
    "        file_path = os.path.join(output_folder, file_name)\n",
    "        with open(file_path, 'w') as f:\n",
    "            f.write(extracted_text)\n",
    "\n",
    "    return file_path\n",
    "\n",
    "\n",
    "\n",
    "for pdfs in col_1_pdf_path:\n",
    "    pdf_path = pdfs\n",
    "    output_file_path = extract_word_coordinates_from_pdf(pdf_path,op_path)\n",
    "print(\"Text extracted and saved to:\", output_file_path)\n"
   ]
  },
  {
   "cell_type": "code",
   "execution_count": null,
   "metadata": {},
   "outputs": [],
   "source": []
  },
  {
   "cell_type": "code",
   "execution_count": null,
   "metadata": {},
   "outputs": [],
   "source": []
  }
 ],
 "metadata": {
  "kernelspec": {
   "display_name": "Python 3",
   "language": "python",
   "name": "python3"
  },
  "language_info": {
   "codemirror_mode": {
    "name": "ipython",
    "version": 3
   },
   "file_extension": ".py",
   "mimetype": "text/x-python",
   "name": "python",
   "nbconvert_exporter": "python",
   "pygments_lexer": "ipython3",
   "version": "3.10.12"
  }
 },
 "nbformat": 4,
 "nbformat_minor": 2
}
