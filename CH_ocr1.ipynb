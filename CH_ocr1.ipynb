{
 "cells": [
  {
   "cell_type": "markdown",
   "metadata": {},
   "source": [
    "# This below code is to rename the pdf files  "
   ]
  },
  {
   "cell_type": "code",
   "execution_count": null,
   "metadata": {},
   "outputs": [],
   "source": [
    "import os\n",
    "import pandas as pd\n",
    "import shutil\n",
    "\n",
    "def rename_pdfs(input_folder, backup_folder):\n",
    "    # Create a backup folder if it doesn't exist\n",
    "    os.makedirs(backup_folder, exist_ok=True)\n",
    "\n",
    "    # Initialize a counter for generating unique 3-digit numbers\n",
    "    counter = 1\n",
    "\n",
    "    # Initialize lists to store original and renamed filenames\n",
    "    original_filenames = []\n",
    "    renamed_filenames = []\n",
    "\n",
    "    # Iterate over all files in the input folder\n",
    "    for filename in os.listdir(input_folder):\n",
    "    \n",
    "        # Original file name (with extension)\n",
    "        original_filenames.append(filename)\n",
    "        # Original file path\n",
    "        original_path = os.path.join(input_folder, filename)\n",
    "        # New file name (3-digit number with leading zeros)\n",
    "        new_filename = f\"{counter:03d}.pdf\"\n",
    "        # Renamed file path\n",
    "        new_path = os.path.join(input_folder, new_filename)\n",
    "        # Record the renaming\n",
    "        renamed_filenames.append(new_filename)\n",
    "        # Rename the file\n",
    "        os.rename(original_path, new_path)\n",
    "        # Increment counter for the next file\n",
    "        counter += 1\n",
    "\n",
    "    # Create a DataFrame to store the record\n",
    "    df = pd.DataFrame({'Original Name': original_filenames, 'Renamed Name': renamed_filenames})\n",
    "\n",
    "    # Save the record to an Excel file in the backup folder\n",
    "    excel_file_path = os.path.join(backup_folder, \"renaming_record.xlsx\")\n",
    "    df.to_excel(excel_file_path, index=False)\n",
    "\n",
    "# Example usage\n",
    "input_folder_path = \"/home/pratiksalunkhe/Vallabh/CH_OCR_Text_Extraction/Main/Input/inputpdf\"  # Replace \"/path/to/input/folder\" with the path to your folder containing PDFs\n",
    "backup_folder_path = \"/home/pratiksalunkhe/Vallabh/CH_OCR_Text_Extraction/Main/Input/Name_backup_folder\"   # Replace \"/path/to/backup/folder\" with the path to your backup folder\n",
    "rename_pdfs(input_folder_path, backup_folder_path)\n"
   ]
  },
  {
   "cell_type": "markdown",
   "metadata": {},
   "source": [
    "# Extracting pages from the pdf"
   ]
  },
  {
   "cell_type": "code",
   "execution_count": 1,
   "metadata": {},
   "outputs": [],
   "source": [
    "\n",
    "\n",
    "import os\n",
    "import PyPDF2\n",
    "\n",
    "\"\"\" This function will extract the pages from each pdf file and will create different folders for different pages in given output directory\"\"\"\n",
    "\n",
    "\n",
    "\n",
    "def extract_pages_and_save(pdf_path, output_directory):\n",
    "    # Open the PDF file\n",
    "    with open(pdf_path, 'rb') as pdf_file:\n",
    "        pdf_reader = PyPDF2.PdfFileReader(pdf_file)\n",
    "        total_pages = pdf_reader.numPages\n",
    "\n",
    "        # Create a directory for the PDF file\n",
    "        folder_name = os.path.splitext(os.path.basename(pdf_path))[0]\n",
    "        folder_path = os.path.join(output_directory, folder_name)\n",
    "        os.makedirs(folder_path, exist_ok=True)\n",
    "\n",
    "        # Extract each page and save it in a separate directory\n",
    "        for page_num in range(total_pages):\n",
    "            # Create a directory for the current page\n",
    "            page_folder_name = f\"{folder_name}_pg{page_num + 1}\"\n",
    "            page_folder_path = os.path.join(folder_path, page_folder_name)\n",
    "            os.makedirs(page_folder_path, exist_ok=True)\n",
    "\n",
    "            # Save the current page in the page-specific directory\n",
    "            page = pdf_reader.getPage(page_num)\n",
    "            output_pdf_path = os.path.join(page_folder_path, f\"{folder_name}_pg{page_num + 1}.pdf\")\n",
    "            with open(output_pdf_path, 'wb') as output_file:\n",
    "                pdf_writer = PyPDF2.PdfFileWriter()\n",
    "                pdf_writer.addPage(page)\n",
    "                pdf_writer.write(output_file)\n",
    "\n",
    "\n",
    "\n",
    "\n",
    "\n",
    "def process_pdfs_in_folder(input_folder, output_directory):\n",
    "    # Iterate over all files in the input folder\n",
    "    for filename in os.listdir(input_folder):\n",
    "        pdf_path = os.path.join(input_folder, filename)\n",
    "        extract_pages_and_save(pdf_path, output_directory)\n",
    "\n",
    "\n",
    "\n",
    "\n",
    "# Example usage\n",
    "input_folder_path = \"/home/pratiksalunkhe/Vallabh/Fin_OCR_Model/pdf_input/\" # Replace \"example.pdf\" with the path to your PDF file\n",
    "output_directory = \"/home/pratiksalunkhe/Vallabh/Fin_OCR_Model/page_seperated_pdf\"  # Replace \"/path/to/output/directory\" with your desired directory\n",
    "process_pdfs_in_folder(input_folder_path, output_directory)\n"
   ]
  },
  {
   "cell_type": "markdown",
   "metadata": {},
   "source": [
    "# Croping boxex from pdfs"
   ]
  },
  {
   "cell_type": "code",
   "execution_count": 2,
   "metadata": {},
   "outputs": [],
   "source": [
    "from PyPDF2 import PdfFileReader, PdfFileWriter\n",
    "from pdf2image import convert_from_path\n",
    "import camelot\n",
    "import os\n",
    "\n",
    "def crop_pdf_dynamically(input_pdf_path,column_to_crop):\n",
    "   \n",
    "\n",
    "    # Read the PDF and extract cell coordinates\n",
    "    table = camelot.read_pdf(input_pdf_path, encoding='utf-8')\n",
    "    cell = table[0].cells\n",
    "\n",
    "   \n",
    "\n",
    "    # Iterate through the cells and get coordinates for the specified column\n",
    "    for j, i in enumerate(cell[3:]):  # Assuming skipping first 3 cells\n",
    "        x1 = i[column_to_crop].x1\n",
    "        y1 = i[column_to_crop].y1\n",
    "        x2 = i[column_to_crop].x2\n",
    "        y2 = i[column_to_crop].y2\n",
    "        \n",
    "        #if column_to_crop == -1:\n",
    "        #    column_to_crop = len(cell[3])\n",
    "#\n",
    "        #else:\n",
    "        #    pass\n",
    "        #\n",
    "        parent_directory = os.path.dirname(input_pdf_path)\n",
    "        name = parent_directory.split('/')[-1]\n",
    "        \n",
    "            # Define the output file name based on index\n",
    "        output_file_name = f\"column_{column_to_crop+1}_row_{j+1}_{name}_cropped.pdf\"\n",
    "        output_pdf_directory_name = f\"cropped_{name}_pdf\"\n",
    "        \n",
    "        # Create the output PDF directory if it doesn't exist\n",
    "        output_pdf_path = os.path.join(os.path.dirname(input_pdf_path), output_pdf_directory_name)\n",
    "        if not os.path.exists(output_pdf_path):\n",
    "            os.makedirs(output_pdf_path)\n",
    "        # Open the input PDF file\n",
    "        with open(input_pdf_path, 'rb') as input_pdf_file:\n",
    "            reader = PdfFileReader(input_pdf_file)\n",
    "            writer = PdfFileWriter()\n",
    "            # Iterate through each page of the PDF\n",
    "            for page_number in range(reader.getNumPages()):\n",
    "                page = reader.getPage(page_number)\n",
    "                # Crop the page using coordinates\n",
    "                page.mediaBox.lowerLeft = (x1, y1)\n",
    "                page.mediaBox.upperRight = (x2, y2)\n",
    "                # Add the cropped page to the new PDF\n",
    "                writer.addPage(page)\n",
    "            # Write the cropped PDF to the output file\n",
    "            with open(os.path.join(output_pdf_path, output_file_name), 'wb') as output_pdf_file:\n",
    "                writer.write(output_pdf_file)\n",
    "    return input_pdf_path \n",
    "\n",
    "\n",
    "\n",
    "\n"
   ]
  },
  {
   "cell_type": "code",
   "execution_count": 4,
   "metadata": {},
   "outputs": [],
   "source": [
    "path = \"/home/pratiksalunkhe/Vallabh/Fin_OCR_Model/page_seperated_pdf/\"\n",
    "for fol in os.listdir(path):\n",
    "    fol_path = os.path.join(path,fol)\n",
    "    for fold in os.listdir(fol_path):\n",
    "        fold_path = os.path.join(fol_path,fold)\n",
    "        for file in os.listdir(fold_path):\n",
    "            if file.endswith(\".pdf\"):\n",
    "\n",
    "                input_pdf_file = os.path.join(fold_path,file)\n",
    "\n",
    "                #print(input_pdf_file)\n",
    "\n",
    "                # Crop   PDF dynamically based on user input\n",
    "                input_pdf_path = input_pdf_file\n",
    "                column_to_crop = -1   # {IT should be 0 to -1}\n",
    "\n",
    "                crop_pdf_dynamically(input_pdf_path,column_to_crop)\n",
    "                "
   ]
  },
  {
   "cell_type": "markdown",
   "metadata": {},
   "source": [
    "# Code to convert pdf to image"
   ]
  },
  {
   "cell_type": "code",
   "execution_count": 32,
   "metadata": {},
   "outputs": [],
   "source": [
    "import os\n",
    "from pdf2image import convert_from_path\n",
    "\n",
    "def convert_pdf_to_images(pdf_file_path):\n",
    "    if pdf_file_path.endswith('.pdf'):\n",
    "\n",
    "        pdf_name = os.path.splitext(os.path.basename(pdf_file_path))[0]  # Extract PDF name\n",
    "\n",
    "        \n",
    "\n",
    "        parent_directory = os.path.dirname(os.path.dirname(os.path.dirname(os.path.dirname(os.path.dirname(pdf_file_path)))))\n",
    "        output_folder = os.path.join(parent_directory, 'pdf_to_img')\n",
    "        os.makedirs(output_folder, exist_ok=True)\n",
    "\n",
    "        folder_prefix = pdf_file_path.split('/')[-4]  # 007\n",
    "        op_sub_fol = os.path.join(output_folder, folder_prefix)\n",
    "        os.makedirs(op_sub_fol, exist_ok=True)\n",
    "\n",
    "        sub_fol_prefix = pdf_file_path.split('/')[-3]  # 007\n",
    "        op_sub_fold = os.path.join(op_sub_fol, sub_fol_prefix)\n",
    "        os.makedirs(op_sub_fold, exist_ok=True)\n",
    "\n",
    "        images = convert_from_path(pdf_file_path, dpi=600)\n",
    "        saved_image_paths = []\n",
    "\n",
    "        for idx, image in enumerate(images):\n",
    "            image_path = os.path.join(op_sub_fold, f\"{pdf_name}.jpg\") #f\"{pdf_name}_{idx + 1}.jpg\"\n",
    "            image.save(image_path, \"JPEG\")\n",
    "            saved_image_paths.append(image_path)\n",
    "        \n",
    "        return saved_image_paths\n",
    "\n",
    "\n"
   ]
  },
  {
   "cell_type": "code",
   "execution_count": 36,
   "metadata": {},
   "outputs": [],
   "source": [
    "import os\n",
    "ip_path = \"/home/pratiksalunkhe/Vallabh/Fin_OCR_Model/page_seperated_pdf/\"\n",
    "for fol in os.listdir(ip_path):\n",
    "    fol_path = os.path.join(ip_path, fol)\n",
    "    for fold in os.listdir(fol_path):\n",
    "        fold_path = os.path.join(fol_path, fold)\n",
    "        for pg_fol in os.listdir(fold_path):\n",
    "            pg_fol_path = os.path.join(fold_path,pg_fol)\n",
    "            if os.path.isdir(pg_fol_path):\n",
    "                for crop_pdf_files in os.listdir(pg_fol_path):\n",
    "                    ip_crop_pdf_files = os.path.join(pg_fol_path,crop_pdf_files)\n",
    "                    saved_image_paths = convert_pdf_to_images(ip_crop_pdf_files)\n",
    "                  "
   ]
  },
  {
   "cell_type": "markdown",
   "metadata": {},
   "source": [
    "# Passing Images to OCR "
   ]
  },
  {
   "cell_type": "code",
   "execution_count": 37,
   "metadata": {},
   "outputs": [],
   "source": [
    "import os\n",
    "\n",
    "def perform_ocr(img_path):\n",
    "    img_name = os.path.splitext(os.path.basename(img_path))[0] #column_0_row_1_007_pg1_cropped\n",
    "\n",
    "    parent_directory = os.path.dirname(os.path.dirname(os.path.dirname(img_path))) #/home/pratiksalunkhe/Vallabh/Fin_OCR_Model/pdf_to_img\n",
    "\n",
    "    child_fol = img_path.split('/')[-3] # 007\n",
    "\n",
    "    child_fold = img_path.split('/')[-2]\n",
    "\n",
    "    output_path = os.path.join(parent_directory, child_fol, child_fold, f'{img_name}')\n",
    "\n",
    "    command = f\"tesseract {img_path} {output_path} -l Devanagari --psm 6\"\n",
    "\n",
    "    os.system(command)\n",
    "\n",
    "\n",
    "\n"
   ]
  },
  {
   "cell_type": "code",
   "execution_count": 38,
   "metadata": {},
   "outputs": [],
   "source": [
    "import os\n",
    "\n",
    "img_fol_path = \"/home/pratiksalunkhe/Vallabh/Fin_OCR_Model/pdf_to_img/\"\n",
    "\n",
    "for fol in os.listdir(img_fol_path):\n",
    "    fol_path = os.path.join(img_fol_path, fol)\n",
    "    for fold in os.listdir(fol_path):\n",
    "        fold_path = os.path.join(fol_path, fold)\n",
    "        for im_path in os.listdir(fold_path):\n",
    "            pg_img_path = os.path.join(fold_path, im_path)\n",
    "            if os.path.splitext(pg_img_path)[1] == '.jpg':\n",
    "                perform_ocr(pg_img_path)\n",
    "\n",
    "            "
   ]
  },
  {
   "cell_type": "code",
   "execution_count": null,
   "metadata": {},
   "outputs": [],
   "source": []
  },
  {
   "cell_type": "code",
   "execution_count": null,
   "metadata": {},
   "outputs": [],
   "source": []
  },
  {
   "cell_type": "code",
   "execution_count": null,
   "metadata": {},
   "outputs": [],
   "source": []
  },
  {
   "cell_type": "code",
   "execution_count": null,
   "metadata": {},
   "outputs": [],
   "source": []
  },
  {
   "cell_type": "code",
   "execution_count": null,
   "metadata": {},
   "outputs": [],
   "source": []
  },
  {
   "cell_type": "code",
   "execution_count": null,
   "metadata": {},
   "outputs": [],
   "source": []
  },
  {
   "cell_type": "code",
   "execution_count": null,
   "metadata": {},
   "outputs": [],
   "source": []
  },
  {
   "cell_type": "code",
   "execution_count": 33,
   "metadata": {},
   "outputs": [
    {
     "name": "stdout",
     "output_type": "stream",
     "text": [
      "610.56 110.4 770.1299999999999 168.48000000000002\n"
     ]
    }
   ],
   "source": [
    "path = \"/home/pratiksalunkhe/Vallabh/Fin_OCR_Model/page_seperated_pdf/019/019_pg1/019_pg1.pdf\"\n",
    "\n",
    "table = camelot.read_pdf(input_pdf_path, encoding='utf-8')\n",
    "cell = table[0].cells\n",
    "\n",
    "   \n",
    "\n",
    "    # Iterate through the cells and get coordinates for the specified column\n",
    "for j, i in enumerate(cell[3:]):  # Assuming skipping first 3 cells\n",
    "    x1 = i[-1].x1\n",
    "    y1 = i[-1].y1\n",
    "    x2 = i[-1].x2\n",
    "    y2 = i[-1].y2\n",
    "\n",
    "print(x1, y1,x2,y2)"
   ]
  },
  {
   "cell_type": "code",
   "execution_count": 41,
   "metadata": {},
   "outputs": [
    {
     "name": "stdout",
     "output_type": "stream",
     "text": [
      "<Cell x1=610.56 y1=284.4 x2=770.13 y2=342.24>\n",
      "<Cell x1=610.56 y1=226.32 x2=770.13 y2=284.4>\n",
      "<Cell x1=610.56 y1=168.48 x2=770.13 y2=226.32>\n",
      "<Cell x1=610.56 y1=110.4 x2=770.13 y2=168.48>\n"
     ]
    }
   ],
   "source": [
    "for j, i in enumerate(cell[3:]):\n",
    "    print(i[-1])"
   ]
  },
  {
   "cell_type": "code",
   "execution_count": 27,
   "metadata": {},
   "outputs": [
    {
     "data": {
      "text/plain": [
       "'007_pg3'"
      ]
     },
     "execution_count": 27,
     "metadata": {},
     "output_type": "execute_result"
    }
   ],
   "source": [
    "path = \"/home/pratiksalunkhe/Vallabh/Fin_OCR_Model/page_seperated_pdf/007/007_pg3/007_pg3.pdf\"\n",
    "parent_directory = os.path.dirname(path)\n",
    "name = parent_directory.split('/')[-1]\n",
    "name\n",
    "        "
   ]
  },
  {
   "cell_type": "code",
   "execution_count": null,
   "metadata": {},
   "outputs": [],
   "source": [
    "import os\n",
    "import PyPDF2\n",
    "\n",
    "\"\"\" This function will extract the pages from each pdf file and will create different folders for different pages in given output directory\"\"\"\n",
    "\n",
    "\n",
    "\n",
    "def extract_pages_and_save(pdf_path, output_directory):\n",
    "    # Open the PDF file\n",
    "    with open(pdf_path, 'rb') as pdf_file:\n",
    "        pdf_reader = PyPDF2.PdfFileReader(pdf_file)\n",
    "        total_pages = pdf_reader.numPages\n",
    "\n",
    "        # Create a directory for the PDF file\n",
    "        folder_name = os.path.splitext(os.path.basename(pdf_path))[0]\n",
    "        folder_path = os.path.join(output_directory, folder_name)\n",
    "        os.makedirs(folder_path, exist_ok=True)\n",
    "\n",
    "        # Extract each page and save it in a separate directory\n",
    "        for page_num in range(total_pages):\n",
    "            # Create a directory for the current page\n",
    "            page_folder_name = f\"{folder_name}_pg{page_num + 1}\"\n",
    "            page_folder_path = os.path.join(folder_path, page_folder_name)\n",
    "            os.makedirs(page_folder_path, exist_ok=True)\n",
    "\n",
    "            # Save the current page in the page-specific directory\n",
    "            page = pdf_reader.getPage(page_num)\n",
    "            output_pdf_path = os.path.join(page_folder_path, f\"{folder_name}_pg{page_num + 1}.pdf\")\n",
    "            with open(output_pdf_path, 'wb') as output_file:\n",
    "                pdf_writer = PyPDF2.PdfFileWriter()\n",
    "                pdf_writer.addPage(page)\n",
    "                pdf_writer.write(output_file)\n",
    "\n",
    "\n",
    "\n",
    "\n",
    "\n",
    "def process_pdfs_in_folder(input_folder, output_directory):\n",
    "    # Iterate over all files in the input folder\n",
    "    for filename in os.listdir(input_folder):\n",
    "        pdf_path = os.path.join(input_folder, filename)\n",
    "        extract_pages_and_save(pdf_path, output_directory)\n",
    "\n",
    "\n",
    "\n",
    "\n",
    "# Example usage\n",
    "input_folder_path = \"/home/pratiksalunkhe/Vallabh/Fin_OCR_Model/pdf_input/\" # Replace \"example.pdf\" with the path to your PDF file\n",
    "output_directory = \"/home/pratiksalunkhe/Vallabh/Fin_OCR_Model/page_seperated_pdf\"  # Replace \"/path/to/output/directory\" with your desired directory\n",
    "process_pdfs_in_folder(input_folder_path, output_directory)\n"
   ]
  }
 ],
 "metadata": {
  "kernelspec": {
   "display_name": "Python 3",
   "language": "python",
   "name": "python3"
  },
  "language_info": {
   "codemirror_mode": {
    "name": "ipython",
    "version": 3
   },
   "file_extension": ".py",
   "mimetype": "text/x-python",
   "name": "python",
   "nbconvert_exporter": "python",
   "pygments_lexer": "ipython3",
   "version": "3.10.12"
  }
 },
 "nbformat": 4,
 "nbformat_minor": 2
}
